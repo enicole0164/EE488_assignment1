{
  "cells": [
    {
      "cell_type": "markdown",
      "metadata": {
        "id": "view-in-github",
        "colab_type": "text"
      },
      "source": [
        "<a href=\"https://colab.research.google.com/github/enicole0164/EE488_assignment1/blob/main/EE488_HW1_2_student.ipynb\" target=\"_parent\"><img src=\"https://colab.research.google.com/assets/colab-badge.svg\" alt=\"Open In Colab\"/></a>"
      ]
    },
    {
      "cell_type": "markdown",
      "source": [
        "EE488 HW 1-2: Anomaly detection using a reconstruction task\n",
        "====\n",
        "\n",
        "## Instruction\n",
        "- In this practice, we will detect anomalous data using the reconstruction model\n",
        "- Using the MNIST dataset, define images corresponding to digit 0 as normal data. The rest of digits (1 -- 9) are considered as anomalies.\n",
        "- Modify the \"Data Loader\" section such that only digit 0 is included as training data.\n",
        "- The test dataset includes all digits from 0 to 9\n",
        "- Run the training and calculate the RMS errors for individual digits of test dataset. Fill the \"Histogram Comparison\" section to plot the histogram similar to the given image.  "
      ],
      "metadata": {
        "id": "CYv4DSG2dFZv"
      }
    },
    {
      "cell_type": "code",
      "execution_count": 3,
      "metadata": {
        "id": "sRPk2SMeZB1e"
      },
      "outputs": [],
      "source": [
        "import torch\n",
        "import torch.nn as nn\n",
        "import torch.nn.functional as F\n",
        "import torchvision\n",
        "import torchvision.datasets as vision_dsets\n",
        "import torchvision.transforms as T\n",
        "import torch.optim as optim\n",
        "from torch.autograd import Variable\n",
        "from torch.utils import data\n",
        "import matplotlib.pyplot as plt\n",
        "import matplotlib as mpl\n"
      ]
    },
    {
      "cell_type": "markdown",
      "metadata": {
        "id": "-_GkGEzRZB1f"
      },
      "source": [
        "### Data Loader"
      ]
    },
    {
      "cell_type": "code",
      "execution_count": 4,
      "metadata": {
        "id": "h53qoNVHZB1f",
        "colab": {
          "base_uri": "https://localhost:8080/"
        },
        "outputId": "bd74a116-e390-49ef-f0ab-c95ec4022dbd"
      },
      "outputs": [
        {
          "output_type": "stream",
          "name": "stderr",
          "text": [
            "100%|██████████| 9.91M/9.91M [00:02<00:00, 4.58MB/s]\n",
            "100%|██████████| 28.9k/28.9k [00:00<00:00, 131kB/s]\n",
            "100%|██████████| 1.65M/1.65M [00:01<00:00, 1.08MB/s]\n",
            "100%|██████████| 4.54k/4.54k [00:00<00:00, 2.56MB/s]\n"
          ]
        }
      ],
      "source": [
        "root='./data'\n",
        "batch_size=32\n",
        "\n",
        "mnist_train = vision_dsets.MNIST(root = root,\n",
        "                                train = True,\n",
        "                                transform = T.ToTensor(),\n",
        "                                download = True)\n",
        "\n",
        "idx = mnist_train.targets == 0\n",
        "\n",
        "mnist_train.targets = mnist_train.targets[idx]\n",
        "mnist_train.data = mnist_train.data[idx]\n",
        "\n",
        "mnist_test = vision_dsets.MNIST(root = root,\n",
        "                                train = False,\n",
        "                                transform = T.ToTensor(),\n",
        "                                download = True)\n",
        "\n",
        "trainDataLoader = data.DataLoader(dataset = mnist_train,\n",
        "                                    batch_size = batch_size,\n",
        "                                    shuffle =True,\n",
        "                                    num_workers = 1)\n",
        "\n",
        "testDataLoader = data.DataLoader(dataset = mnist_test,\n",
        "                                batch_size = batch_size,\n",
        "                                shuffle = False,\n",
        "                                num_workers = 1)\n",
        "\n"
      ]
    },
    {
      "cell_type": "markdown",
      "source": [
        "### **Define Neural Network for AE training**"
      ],
      "metadata": {
        "id": "tKBXQRgMcMK2"
      }
    },
    {
      "cell_type": "code",
      "execution_count": 5,
      "metadata": {
        "id": "5XRRJIzzZB1k"
      },
      "outputs": [],
      "source": [
        "class AE(nn.Module):\n",
        "    def __init__(self, z_dim=256):\n",
        "        super(AE, self).__init__()\n",
        "\n",
        "        # encoder part\n",
        "        self.encconv1 = nn.Conv2d(1,16,5)\n",
        "        self.encconv2 = nn.Conv2d(16,32,5)\n",
        "\n",
        "        # latent encoding & decoding\n",
        "        self.encfc = nn.Linear(32*20*20, z_dim)\n",
        "        self.decfc = nn.Linear(z_dim, 32*20*20)\n",
        "\n",
        "        # decoder part\n",
        "        self.decconv1 = nn.ConvTranspose2d(32,16,5)\n",
        "        self.decconv2 = nn.ConvTranspose2d(16,1,5)\n",
        "\n",
        "    def encoder(self, x):\n",
        "        # encoder\n",
        "        # first cnn layer\n",
        "        x = F.relu(self.encconv1(x))\n",
        "\n",
        "        # second cnn layer\n",
        "        x = F.relu(self.encconv2(x))\n",
        "        x = x.view(-1, 32*20*20)    # flatten\n",
        "\n",
        "        # latent\n",
        "        z = self.encfc(x)\n",
        "\n",
        "        return z\n",
        "\n",
        "    def decoder(self, z):\n",
        "        # reconstruct image from latent z\n",
        "\n",
        "        x = F.relu(self.decfc(z))\n",
        "        x = x.view(-1, 32, 20, 20) # unflatten\n",
        "\n",
        "        # first deconv layer\n",
        "        x = F.relu(self.decconv1(x))\n",
        "\n",
        "        # second deconv layer\n",
        "        x = torch.sigmoid(self.decconv2(x))\n",
        "        return x\n",
        "\n",
        "    def forward(self, x):\n",
        "        z = self.encoder(x)\n",
        "        return self.decoder(z)"
      ]
    },
    {
      "cell_type": "markdown",
      "metadata": {
        "id": "UE_1ORYIZB1h"
      },
      "source": [
        "### **Define AE Trainer**"
      ]
    },
    {
      "cell_type": "code",
      "execution_count": 6,
      "metadata": {
        "id": "qF8aZYCHZB1i"
      },
      "outputs": [],
      "source": [
        "class AETrainer():\n",
        "    def __init__(self, trainloader, testloader, net, optimizer):\n",
        "\n",
        "        self.trainloader = trainloader\n",
        "        self.testloader = testloader\n",
        "        self.net = net\n",
        "        self.optimizer = optimizer\n",
        "\n",
        "    def mse_loss(self, recon_x, x):\n",
        "        # compute mse loss\n",
        "        mseloss = F.mse_loss(recon_x.view(-1,1,28,28), x, reduction='sum')\n",
        "\n",
        "        return mseloss\n",
        "\n",
        "    def train(self, epoch = 1, test_on_train=False):\n",
        "        self.net.train()\n",
        "        for e in range(epoch):\n",
        "            running_loss = 0.0\n",
        "            for i, (inputs, _) in enumerate(self.trainloader, 0):\n",
        "                inputs = inputs.cuda()\n",
        "                self.optimizer.zero_grad()\n",
        "\n",
        "                # forward\n",
        "                recon =self.net(inputs)\n",
        "\n",
        "                # compute loss\n",
        "                loss = self.mse_loss(recon, inputs)\n",
        "\n",
        "                loss.backward()\n",
        "                self.optimizer.step()\n",
        "\n",
        "                # print statistics\n",
        "                running_loss += loss.item()\n",
        "                if (i+1) % 100 == 0:\n",
        "                    print('[%d, %5d] loss: %.3f' % (e + 1, i + 1, running_loss / (100*len(inputs))))\n",
        "                    running_loss = 0.0\n",
        "            if test_on_train:\n",
        "                self.test()\n",
        "        print('Finished Training')\n",
        "\n",
        "    def test(self):\n",
        "        self.net.eval()\n",
        "\n",
        "        test_loss = 0\n",
        "        with torch.no_grad():\n",
        "            for inputs, _ in self.testloader:\n",
        "                inputs = inputs.cuda()\n",
        "                # forward\n",
        "                recon = self.net(inputs)\n",
        "\n",
        "                # compute loss\n",
        "                loss = self.mse_loss(recon, inputs)\n",
        "                test_loss += loss.item()\n",
        "\n",
        "            test_loss /= len(self.testloader.dataset)\n",
        "        print('====> Test set loss: {:.4f}'.format(test_loss))"
      ]
    },
    {
      "cell_type": "code",
      "source": [
        "z_dim = 64\n",
        "ae_net = AE(z_dim=z_dim).cuda()\n",
        "optimizer = optim.Adam(ae_net.parameters(), lr=1e-4)"
      ],
      "metadata": {
        "id": "2GkoTG1vospF"
      },
      "execution_count": 7,
      "outputs": []
    },
    {
      "cell_type": "code",
      "source": [
        "trainer = AETrainer(trainloader = trainDataLoader,\n",
        "                  testloader = testDataLoader,\n",
        "                  net = ae_net,\n",
        "                  optimizer = optimizer)"
      ],
      "metadata": {
        "id": "2tB35q_zoslt"
      },
      "execution_count": 8,
      "outputs": []
    },
    {
      "cell_type": "code",
      "source": [
        "trainer.train(epoch = 10, test_on_train=True)"
      ],
      "metadata": {
        "id": "a3pqitu0osZP",
        "colab": {
          "base_uri": "https://localhost:8080/"
        },
        "outputId": "15ae2ec6-ea98-4221-d281-7add23390704"
      },
      "execution_count": 9,
      "outputs": [
        {
          "output_type": "stream",
          "name": "stdout",
          "text": [
            "[1,   100] loss: 76.297\n",
            "====> Test set loss: 57.1764\n",
            "[2,   100] loss: 24.120\n",
            "====> Test set loss: 45.4506\n",
            "[3,   100] loss: 17.906\n",
            "====> Test set loss: 39.8691\n",
            "[4,   100] loss: 14.699\n",
            "====> Test set loss: 36.9338\n",
            "[5,   100] loss: 12.837\n",
            "====> Test set loss: 34.3489\n",
            "[6,   100] loss: 11.916\n",
            "====> Test set loss: 32.6084\n",
            "[7,   100] loss: 11.057\n",
            "====> Test set loss: 30.9184\n",
            "[8,   100] loss: 10.332\n",
            "====> Test set loss: 29.6384\n",
            "[9,   100] loss: 9.897\n",
            "====> Test set loss: 28.5379\n",
            "[10,   100] loss: 9.351\n",
            "====> Test set loss: 27.8973\n",
            "Finished Training\n"
          ]
        }
      ]
    },
    {
      "cell_type": "markdown",
      "source": [
        "## Compare original and reconstructed images"
      ],
      "metadata": {
        "id": "eZpKhPKrXhDU"
      }
    },
    {
      "cell_type": "code",
      "source": [
        "test_digit = 1\n",
        "\n",
        "zero_org = mnist_test.data[mnist_test.targets==test_digit].data.view(-1,1,28,28).cuda()\n",
        "zero_org = zero_org/255.0\n",
        "zero_recon = ae_net(zero_org)\n",
        "\n",
        "zero_org = zero_org.detach().cpu().view(-1,28,28)\n",
        "zero_recon = zero_recon.detach().cpu().view(-1,28,28)\n",
        "\n",
        "fig, axes = plt.subplots(1,3,figsize=(8,8))\n",
        "ax = axes.ravel()\n",
        "\n",
        "# define colorbars\n",
        "imidx = 0\n",
        "\n",
        "im0 = ax[0].imshow(zero_org[imidx], cmap='gray', vmin=0, vmax=1)\n",
        "ax[0].axis('off')\n",
        "ax[0].set_title('original')\n",
        "im1 = ax[1].imshow(zero_recon[imidx], cmap='gray', vmin=0, vmax=1)\n",
        "ax[1].axis('off')\n",
        "ax[1].set_title('reconstructed')\n",
        "im2 = ax[2].imshow(zero_org[imidx]-zero_recon[imidx], cmap='gray', vmin=-1, vmax=1)\n",
        "ax[2].axis('off')\n",
        "ax[2].set_title('error')\n",
        "\n",
        "fig.colorbar(im0, ax=ax[0], aspect=5, shrink= 0.5, pad=0.05)\n",
        "fig.colorbar(im1, ax=ax[1], aspect=5, shrink= 0.5, pad=0.05)\n",
        "fig.colorbar(im2, ax=ax[2], aspect=5, shrink= 0.5, pad=0.05)\n",
        "\n",
        "plt.subplots_adjust(wspace=0.5, hspace=0.5)\n",
        "plt.show()\n"
      ],
      "metadata": {
        "colab": {
          "base_uri": "https://localhost:8080/",
          "height": 187
        },
        "id": "DFCQM8epVnwj",
        "outputId": "bebd4e54-621a-4c51-c036-4e17061a8029"
      },
      "execution_count": 10,
      "outputs": [
        {
          "output_type": "display_data",
          "data": {
            "text/plain": [
              "<Figure size 800x800 with 6 Axes>"
            ],
            "image/png": "[encoded data removed]"
          },
          "metadata": {}
        }
      ]
    },
    {
      "cell_type": "markdown",
      "source": [
        "## Histogram comparison\n",
        "In this section, we calculate reconstruction errors for individual digits and plot histogram to compare the error distribution between seen and unseen data during training.\n",
        "\n",
        "An example figure is also given below."
      ],
      "metadata": {
        "id": "11Pejhp8tHZm"
      }
    },
    {
      "cell_type": "code",
      "source": [
        "for i in range(10):\n",
        "\n",
        "  org = mnist_test.data[mnist_test.targets==i].data.view(-1,1,28,28).cuda()\n",
        "  org = org/255.0\n",
        "  recon = ae_net(org)\n",
        "\n",
        "  #######################################################################\n",
        "  # fill this section to calculate MSE losses for selected images\n",
        "\n",
        "  # Calculate loss\n",
        "  loss = F.mse_loss(recon.view(-1,1,28,28), org, reduction='none')\n",
        "  loss = loss.view(-1,28*28)\n",
        "  loss = torch.mean(loss, dim=1)\n",
        "\n",
        "  loss = loss.detach().cpu().numpy()\n",
        "\n",
        "  #######################################################################\n",
        "\n",
        "  plt.hist(loss, bins= 20, alpha = 0.8)  # plot the histogram of calculated loss\n",
        "\n",
        "plt.title('MSE score')\n",
        "plt.legend(['0','1','2','3','4','5','6','7','8','9'])\n",
        "plt.figure(figsize=(10,10))\n",
        "\n"
      ],
      "metadata": {
        "id": "1W6w_uSxtYOy",
        "colab": {
          "base_uri": "https://localhost:8080/",
          "height": 486
        },
        "outputId": "a0d737e1-5ccd-4095-c51a-6bedfcc997c5"
      },
      "execution_count": 25,
      "outputs": [
        {
          "output_type": "execute_result",
          "data": {
            "text/plain": [
              "<Figure size 1000x1000 with 0 Axes>"
            ]
          },
          "metadata": {},
          "execution_count": 25
        },
        {
          "output_type": "display_data",
          "data": {
            "text/plain": [
              "<Figure size 640x480 with 1 Axes>"
            ],
            "image/png": "[encoded data removed]"
          },
          "metadata": {}
        },
        {
          "output_type": "display_data",
          "data": {
            "text/plain": [
              "<Figure size 1000x1000 with 0 Axes>"
            ]
          },
          "metadata": {}
        }
      ]
    },
    {
      "cell_type": "markdown",
      "source": [
        "![histog.png](data:image/png;base64,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)"
      ],
      "metadata": {
        "id": "YTvEUNjk3Kbb"
      }
    }
  ],
  "metadata": {
    "kernelspec": {
      "display_name": "Python 3",
      "name": "python3"
    },
    "language_info": {
      "codemirror_mode": {
        "name": "ipython",
        "version": 3
      },
      "file_extension": ".py",
      "mimetype": "text/x-python",
      "name": "python",
      "nbconvert_exporter": "python",
      "pygments_lexer": "ipython3",
      "version": "3.6.12"
    },
    "colab": {
      "provenance": [],
      "gpuType": "T4",
      "include_colab_link": true
    },
    "accelerator": "GPU"
  },
  "nbformat": 4,
  "nbformat_minor": 0
}